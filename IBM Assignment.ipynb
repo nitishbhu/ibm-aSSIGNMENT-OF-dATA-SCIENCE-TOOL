{
 "cells": [
  {
   "cell_type": "markdown",
   "id": "adf1e370-6d88-4347-a6fc-f019f92ed329",
   "metadata": {},
   "source": [
    "# My Jupyter Notebook on IBM Watson Studio"
   ]
  },
  {
   "cell_type": "markdown",
   "id": "2a8af464-7411-4663-aba8-34dd0117a019",
   "metadata": {},
   "source": [
    "## Nitish Kumar\n",
    "I am the student of statistics. I want to become a good data scientist .\n",
    "\n"
   ]
  },
  {
   "cell_type": "markdown",
   "id": "26b8bc20-419a-465d-8d6b-0e265ff34a41",
   "metadata": {},
   "source": [
    "*I am Interested in data science because i am a statistics student, it is good career for statician to go in data science field. Today the world most important business fuel is data and we shold to analyze the data for improvement in business.*"
   ]
  },
  {
   "cell_type": "markdown",
   "id": "44b4af17-4d2f-41ad-87c9-69d9cb9b33dd",
   "metadata": {},
   "source": [
    "### Execute and Display Code "
   ]
  },
  {
   "cell_type": "code",
   "execution_count": 3,
   "id": "2c4f71f0-8192-423f-b7f5-282a091921b0",
   "metadata": {},
   "outputs": [
    {
     "name": "stdout",
     "output_type": "stream",
     "text": [
      "1+1\n"
     ]
    }
   ],
   "source": [
    "print(\"1+1\")"
   ]
  },
  {
   "cell_type": "markdown",
   "id": "16567a4d-7a49-4f3d-ab17-49094173de04",
   "metadata": {},
   "source": [
    "**************\n",
    "\n",
    "\n",
    "\n",
    "\n",
    "\n",
    "******************"
   ]
  },
  {
   "cell_type": "markdown",
   "id": "e91dee22-edaf-477c-86ae-8f6e48084507",
   "metadata": {},
   "source": [
    "* Ram\n",
    "* shyam\n",
    "* Rahim\n",
    "  * Kabir"
   ]
  },
  {
   "cell_type": "markdown",
   "id": "a6a4e98f-2ef2-46ba-ba4c-1d25307824d9",
   "metadata": {},
   "source": [
    "1. Joseph\n",
    "2. Clarkk\n",
    "3. Michal"
   ]
  },
  {
   "cell_type": "markdown",
   "id": "ebfbde03-8e77-42ae-b139-0879dbd1b385",
   "metadata": {},
   "source": [
    "|Column1  |Column2  |\n",
    "|---------|---------|\n",
    "|Mango    |Apple    |          \n",
    "|         |         |\n",
    "|         |         |\n",
    "|         |         |\n",
    "|         |         |\n",
    "|         |         |\n",
    "|         |         |\n"
   ]
  },
  {
   "cell_type": "markdown",
   "id": "178b9b2a-68b1-4c62-bc78-f0789d13a606",
   "metadata": {},
   "source": [
    "[This is an external link to wikipedia.com](https://www.wikipedia.org/)"
   ]
  },
  {
   "cell_type": "markdown",
   "id": "ba0006a4-a8ea-4be5-a97a-821c85104501",
   "metadata": {},
   "source": [
    "![Modi Ji](/assets/img/MarineGEO_logo.png \"MarineGEO logo\")\n",
    "\n"
   ]
  },
  {
   "cell_type": "code",
   "execution_count": null,
   "id": "f3492496-a320-4119-b299-fb93b946d025",
   "metadata": {},
   "outputs": [],
   "source": []
  }
 ],
 "metadata": {
  "kernelspec": {
   "display_name": "Python",
   "language": "python",
   "name": "conda-env-python-py"
  },
  "language_info": {
   "codemirror_mode": {
    "name": "ipython",
    "version": 3
   },
   "file_extension": ".py",
   "mimetype": "text/x-python",
   "name": "python",
   "nbconvert_exporter": "python",
   "pygments_lexer": "ipython3",
   "version": "3.7.12"
  }
 },
 "nbformat": 4,
 "nbformat_minor": 5
}
